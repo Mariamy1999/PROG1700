{
 "cells": [
  {
   "cell_type": "code",
   "execution_count": 1,
   "id": "0994a583-3aa5-48ac-b9f2-e1817c4a1edf",
   "metadata": {},
   "outputs": [
    {
     "name": "stdout",
     "output_type": "stream",
     "text": [
      "Hello World!\n"
     ]
    }
   ],
   "source": [
    "print(\"Hello World!\")"
   ]
  },
  {
   "cell_type": "code",
   "execution_count": 2,
   "id": "c69e2ec3-de05-4d8a-882f-2c89d56b5244",
   "metadata": {},
   "outputs": [],
   "source": [
    "# comment\n",
    "# this is another comment \n",
    "# here is one more\n",
    "# Thre pound sign is the important thing"
   ]
  },
  {
   "cell_type": "code",
   "execution_count": 3,
   "id": "a8412db7-7460-4565-b549-4005b4d2cb12",
   "metadata": {},
   "outputs": [
    {
     "data": {
      "text/plain": [
       "'\\n  here is a \\n  multiline\\n  comment.\\n  this is useful for \\n  large amounts of text \\n  '"
      ]
     },
     "execution_count": 3,
     "metadata": {},
     "output_type": "execute_result"
    }
   ],
   "source": [
    "## this is aslo a comment \n",
    "'''\n",
    "  here is a \n",
    "  multiline\n",
    "  comment.\n",
    "  this is useful for \n",
    "  large amounts of text \n",
    "  '''"
   ]
  },
  {
   "cell_type": "code",
   "execution_count": 4,
   "id": "ee97eef3-dec9-4875-b17d-a91767d456b6",
   "metadata": {},
   "outputs": [
    {
     "name": "stdout",
     "output_type": "stream",
     "text": [
      "Hello World\n",
      "Here is something else to print\n",
      "Here is something in 'qotes and some numbers: 123456789\n"
     ]
    }
   ],
   "source": [
    "# the Python 'print' statement \n",
    "\n",
    "# for simple output\n",
    "print(\"Hello World\") \n",
    "print(\"Here is something else to print\")\n",
    "print(\"Here is something in 'qotes and some numbers: 123456789\")"
   ]
  },
  {
   "cell_type": "code",
   "execution_count": 5,
   "id": "0c4a7647-f241-49bd-99a1-dbea981f4257",
   "metadata": {},
   "outputs": [
    {
     "name": "stdout",
     "output_type": "stream",
     "text": [
      "This is a String.\n"
     ]
    }
   ],
   "source": [
    "# a string is a bunch of alphanumbered data \n",
    "print(\"This is a String.\")"
   ]
  },
  {
   "cell_type": "code",
   "execution_count": 7,
   "id": "4b33709e-a360-4531-b01f-b20f9689b701",
   "metadata": {},
   "outputs": [
    {
     "name": "stdout",
     "output_type": "stream",
     "text": [
      "12345\n",
      "12345\n"
     ]
    }
   ],
   "source": [
    "# an interger is a number not in quotes \n",
    "print(12345)\n",
    "print(\"12345\")"
   ]
  },
  {
   "cell_type": "code",
   "execution_count": 8,
   "id": "f3c462b0-2bd8-418b-ae45-72b46f7a7f47",
   "metadata": {},
   "outputs": [
    {
     "name": "stdout",
     "output_type": "stream",
     "text": [
      "Hello world! 123\n",
      "123 Somewhere St. Nova Scotia 456\n"
     ]
    }
   ],
   "source": [
    "# you can combine pieces of data together \n",
    "print(\"Hello world!\", 123)\n",
    "print(123, \"Somewhere St.\", \"Nova Scotia\", 456)"
   ]
  },
  {
   "cell_type": "code",
   "execution_count": 9,
   "id": "0bcf9c61-c730-49ef-9ba7-614819273af3",
   "metadata": {},
   "outputs": [
    {
     "name": "stdout",
     "output_type": "stream",
     "text": [
      "Hello\n",
      "World!\n"
     ]
    }
   ],
   "source": [
    "# special characters \n",
    "print(\"Hello\\nWorld!\") # \\n is a newline character"
   ]
  },
  {
   "cell_type": "code",
   "execution_count": 10,
   "id": "d6dee6de-7288-4894-8529-ac570e71c300",
   "metadata": {},
   "outputs": [
    {
     "name": "stdout",
     "output_type": "stream",
     "text": [
      "Sale price 12345\n",
      "Sale price12345\n"
     ]
    }
   ],
   "source": [
    "# demonstrating different newline styles \n",
    "print(\"Sale price\", 12345)\n",
    "print(\"Sale price\", end=\"\")\n",
    "print(12345)"
   ]
  },
  {
   "cell_type": "code",
   "execution_count": 23,
   "id": "0b882c7a-8491-43e4-800f-5bd41b915114",
   "metadata": {},
   "outputs": [
    {
     "name": "stdin",
     "output_type": "stream",
     "text": [
      "Enter a number: 1234\n"
     ]
    }
   ],
   "source": [
    "# getting input from user \n",
    "user_imput = input(\"Enter a number:\")"
   ]
  },
  {
   "cell_type": "code",
   "execution_count": 14,
   "id": "db22de25-364e-4ec3-82c4-6805d1e0fd11",
   "metadata": {},
   "outputs": [
    {
     "ename": "SyntaxError",
     "evalue": "unmatched ')' (2110639060.py, line 19)",
     "output_type": "error",
     "traceback": [
      "  \u001b[36mCell\u001b[39m\u001b[36m \u001b[39m\u001b[32mIn[14]\u001b[39m\u001b[32m, line 19\u001b[39m\n\u001b[31m    \u001b[39m\u001b[31m)(\"= \"smiley\" # can`t use special characters other than underscore\")\u001b[39m\n    ^\n\u001b[31mSyntaxError\u001b[39m\u001b[31m:\u001b[39m unmatched ')'\n"
     ]
    }
   ],
   "source": [
    "# more about variables \n",
    "\n",
    "# naming convention \n",
    "# keep variable names as desccriptive as possible \n",
    "# snake_case is how you name variables on pyhton\n",
    "# keep the lenth of a variable name to 1, 2, or 3 words (max)\n",
    "\n",
    "# examples of good variabls names \n",
    "user name = \"John Doe\"\n",
    "cost = 123.45 # a decimal variable (floating point value) \n",
    "small number = 3 # an interger variable \n",
    "binary numbers = 0b101010101010 # a binary interger \n",
    "hexadecimal = 0xABCD1234 # a hexidecimal interger \n",
    "big_number = 12345678901234567890 # huge interger \n",
    "\n",
    "# examples of bad variables names\n",
    "my name = \"John\" # can`t have spaces un variable name\n",
    "123 = 123 # can`t use a number as a variable name\n",
    ";) = \"smiley\" # can`t use special characters other than underscore \n",
    "aVariableName = \"stuff\" # this is \"camelCasing\" abd is used in other languages\n",
    "x = \"Hello\" # make avariable names descriptive\n"
   ]
  },
  {
   "cell_type": "code",
   "execution_count": null,
   "id": "2849eef1-1d0a-4f46-bbb8-e8144dc28079",
   "metadata": {},
   "outputs": [],
   "source": [
    "# Create a Script tht creates three variables to hold the current day, month and year\n",
    "# Display the current date using those cariables nicely formated "
   ]
  },
  {
   "cell_type": "code",
   "execution_count": 20,
   "id": "22e27009-70e7-49f0-9934-af89b1b88461",
   "metadata": {},
   "outputs": [
    {
     "name": "stdout",
     "output_type": "stream",
     "text": [
      "19/ 09/ 2025\n",
      "09/,19/,2025\n"
     ]
    }
   ],
   "source": [
    "date = \"19/\"\n",
    "month = \"09/\"\n",
    "year = \"2025\"\n",
    "\n",
    "print(date, month, year)\n",
    "# using f-string intead \n",
    "print(f\"{month},{date},{year}\")"
   ]
  },
  {
   "cell_type": "code",
   "execution_count": 21,
   "id": "7dfb5bdf-ffba-47c8-bd7b-8fb6bc865e2a",
   "metadata": {},
   "outputs": [],
   "source": [
    "# create a script that asks the user`s first name and last name,\n",
    "# then have he script output their emial address in the format \n",
    "#<first name>.<last name >@nscc.ca>"
   ]
  },
  {
   "cell_type": "code",
   "execution_count": 22,
   "id": "a565a70a-69f5-44ac-8d4e-9288a641ef76",
   "metadata": {},
   "outputs": [
    {
     "ename": "SyntaxError",
     "evalue": "unterminated string literal (detected at line 1) (3488508748.py, line 1)",
     "output_type": "error",
     "traceback": [
      "  \u001b[36mCell\u001b[39m\u001b[36m \u001b[39m\u001b[32mIn[22]\u001b[39m\u001b[32m, line 1\u001b[39m\n\u001b[31m    \u001b[39m\u001b[31muser_imput = input(\"what's your first name and last name?:)\u001b[39m\n                       ^\n\u001b[31mSyntaxError\u001b[39m\u001b[31m:\u001b[39m unterminated string literal (detected at line 1)\n"
     ]
    }
   ],
   "source": [
    "user_imput = input(\"what's your first name?:)\n",
    "user_input = input(\"\n",
    "print(f\"{first_name}.{last_name}@nscc.ca"
   ]
  },
  {
   "cell_type": "code",
   "execution_count": null,
   "id": "ff696ad5-55b6-4999-8149-2e436c614f8c",
   "metadata": {},
   "outputs": [],
   "source": []
  }
 ],
 "metadata": {
  "kernelspec": {
   "display_name": "Python 3 (ipykernel)",
   "language": "python",
   "name": "python3"
  },
  "language_info": {
   "codemirror_mode": {
    "name": "ipython",
    "version": 3
   },
   "file_extension": ".py",
   "mimetype": "text/x-python",
   "name": "python",
   "nbconvert_exporter": "python",
   "pygments_lexer": "ipython3",
   "version": "3.13.7"
  }
 },
 "nbformat": 4,
 "nbformat_minor": 5
}
